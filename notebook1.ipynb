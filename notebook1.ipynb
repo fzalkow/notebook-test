{
 "cells": [
  {
   "cell_type": "code",
   "execution_count": null,
   "metadata": {
    "colab": {
     "base_uri": "https://localhost:8080/",
     "height": 451
    },
    "colab_type": "code",
    "id": "26M5efbgQNiF",
    "outputId": "b7297775-4e2f-4e76-b8f0-c87eb6fccc9b"
   },
   "outputs": [],
   "source": [
    "!wget https://repo.anaconda.com/miniconda/Miniconda3-latest-Linux-x86_64.sh\n",
    "!bash Miniconda3-latest-Linux-x86_64.sh -bfp /usr/local"
   ]
  },
  {
   "cell_type": "code",
   "execution_count": null,
   "metadata": {
    "colab": {
     "base_uri": "https://localhost:8080/",
     "height": 121
    },
    "colab_type": "code",
    "id": "62oSfGGhQqQg",
    "outputId": "a7b49bc2-8428-4ce8-8874-83da8b7404e0"
   },
   "outputs": [],
   "source": [
    "!git clone https://github.com/fzalkow/notebook-test.git"
   ]
  },
  {
   "cell_type": "code",
   "execution_count": null,
   "metadata": {
    "colab": {
     "base_uri": "https://localhost:8080/",
     "height": 69
    },
    "colab_type": "code",
    "id": "E9DK9KniQ8R_",
    "outputId": "9fb5e8c3-bfc8-40d7-e49c-5f5e3a498a8d"
   },
   "outputs": [],
   "source": [
    "!conda env create -q -f notebook-test/environment.yml"
   ]
  },
  {
   "cell_type": "code",
   "execution_count": null,
   "metadata": {
    "colab": {},
    "colab_type": "code",
    "id": "3ZbevQatSu3k"
   },
   "outputs": [],
   "source": [
    "import sys\n",
    "sys.path.append('/usr/local/envs/PCP/lib/python3.7/site-packages/')\n",
    "sys.path.append('notebook-test')"
   ]
  },
  {
   "cell_type": "code",
   "execution_count": null,
   "metadata": {
    "colab": {},
    "colab_type": "code",
    "id": "QDUXUExXURtR"
   },
   "outputs": [],
   "source": []
  },
  {
   "cell_type": "code",
   "execution_count": null,
   "metadata": {
    "colab": {},
    "colab_type": "code",
    "id": "O1G17hDCMqT9"
   },
   "outputs": [],
   "source": [
    "import numpy as np\n",
    "import matplotlib\n",
    "from matplotlib import pyplot as plt\n",
    "import soundfile as sf\n",
    "import IPython.display as ipd\n",
    "\n",
    "import lib"
   ]
  },
  {
   "cell_type": "code",
   "execution_count": null,
   "metadata": {
    "colab": {
     "base_uri": "https://localhost:8080/",
     "height": 69
    },
    "colab_type": "code",
    "id": "_Gd9TOkCMqUK",
    "outputId": "36589734-b031-43fb-d880-8664286e5621"
   },
   "outputs": [],
   "source": [
    "print('Python', sys.version)\n",
    "print('Numpy', np.__version__)\n",
    "print('Matplotlib', matplotlib.__version__)\n",
    "print('PySoundfile', sf.__version__)"
   ]
  },
  {
   "cell_type": "code",
   "execution_count": null,
   "metadata": {
    "colab": {},
    "colab_type": "code",
    "id": "mQUk5r6sMqUX"
   },
   "outputs": [],
   "source": [
    "Fs = 8000\n",
    "\n",
    "t = np.linspace(0, 1, Fs)\n",
    "x = np.sin(2 * np.pi * 440 * t)"
   ]
  },
  {
   "cell_type": "code",
   "execution_count": null,
   "metadata": {
    "colab": {
     "base_uri": "https://localhost:8080/",
     "height": 153
    },
    "colab_type": "code",
    "id": "j_CWebfFMqUf",
    "outputId": "49ef83b0-d641-4a9e-999e-d323eb825c84"
   },
   "outputs": [],
   "source": [
    "plt.figure(figsize=(8, 2))\n",
    "plt.plot(t, x)\n",
    "plt.xlim([0, 0.01])\n",
    "plt.xlabel('Time (seconds)')\n",
    "plt.ylabel('Amplitude')\n",
    "plt.tight_layout()"
   ]
  },
  {
   "cell_type": "code",
   "execution_count": null,
   "metadata": {
    "colab": {
     "base_uri": "https://localhost:8080/",
     "height": 61
    },
    "colab_type": "code",
    "id": "Boj50iCaMqUn",
    "outputId": "1fe77b7f-f83d-4cda-eaed-c0a607cd3819"
   },
   "outputs": [],
   "source": [
    "ipd.Audio(data=x, rate=Fs)"
   ]
  },
  {
   "cell_type": "code",
   "execution_count": null,
   "metadata": {
    "colab": {},
    "colab_type": "code",
    "id": "fyJNQ5-RMqUy"
   },
   "outputs": [],
   "source": [
    "sf.write('test.wav', x, Fs)\n",
    "x2, Fs2 = sf.read('test.wav')\n",
    "\n",
    "assert np.all((x - x2) < 0.001)\n",
    "assert Fs == Fs2"
   ]
  },
  {
   "cell_type": "code",
   "execution_count": null,
   "metadata": {
    "colab": {
     "base_uri": "https://localhost:8080/",
     "height": 34
    },
    "colab_type": "code",
    "id": "wSqEotUCMqU6",
    "outputId": "97541239-2349-4348-8ad6-06e2cf0dc115"
   },
   "outputs": [],
   "source": [
    "print(lib.foo())"
   ]
  },
  {
   "cell_type": "code",
   "execution_count": null,
   "metadata": {
    "colab": {},
    "colab_type": "code",
    "id": "Xq1Sh4OxMqVA"
   },
   "outputs": [],
   "source": []
  }
 ],
 "metadata": {
  "colab": {
   "name": "notebook.ipynb",
   "provenance": []
  },
  "kernelspec": {
   "display_name": "Python 3",
   "language": "python",
   "name": "python3"
  },
  "language_info": {
   "codemirror_mode": {
    "name": "ipython",
    "version": 3
   },
   "file_extension": ".py",
   "mimetype": "text/x-python",
   "name": "python",
   "nbconvert_exporter": "python",
   "pygments_lexer": "ipython3",
   "version": "3.7.7"
  }
 },
 "nbformat": 4,
 "nbformat_minor": 1
}
